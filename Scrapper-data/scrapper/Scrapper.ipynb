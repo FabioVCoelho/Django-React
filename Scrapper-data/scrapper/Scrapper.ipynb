{
 "cells": [
  {
   "cell_type": "code",
   "execution_count": 2,
   "metadata": {
    "collapsed": true
   },
   "outputs": [],
   "source": [
    "import rpa as r\n",
    "import pandas as pd"
   ]
  },
  {
   "cell_type": "markdown",
   "source": [
    "### Scrap page"
   ],
   "metadata": {
    "collapsed": false,
    "pycharm": {
     "name": "#%% md\n"
    }
   }
  },
  {
   "cell_type": "markdown",
   "source": [
    "Open the site and download the table as csv on data folder."
   ],
   "metadata": {
    "collapsed": false,
    "pycharm": {
     "name": "#%% md\n"
    }
   }
  },
  {
   "cell_type": "code",
   "execution_count": 13,
   "outputs": [
    {
     "data": {
      "text/plain": "True"
     },
     "execution_count": 13,
     "metadata": {},
     "output_type": "execute_result"
    }
   ],
   "source": [
    "r.init()\n",
    "r.url('https://leagueoflegends.fandom.com/wiki/List_of_champions/Base_statistics')\n",
    "r.table(\"sortable wikitable sticky-header jquery-tablesorter\", \"../data/stats_table.csv\")\n",
    "r.close()"
   ],
   "metadata": {
    "collapsed": false,
    "pycharm": {
     "name": "#%%\n"
    }
   }
  },
  {
   "cell_type": "markdown",
   "source": [
    "### Data normalization."
   ],
   "metadata": {
    "collapsed": false,
    "pycharm": {
     "name": "#%% md\n"
    }
   }
  },
  {
   "cell_type": "markdown",
   "source": [
    "Read file as string"
   ],
   "metadata": {
    "collapsed": false,
    "pycharm": {
     "name": "#%% md\n"
    }
   }
  },
  {
   "cell_type": "code",
   "execution_count": 16,
   "outputs": [
    {
     "data": {
      "text/plain": "    Champions   HP   HP+   HP5   HP5+   MP    MP+    MP5   MP5+  AD    AD+  \\\n0      Aatrox  580   +90     3     +1    0     +0      0     +0  60     +5   \n1        Ahri  500   +82   2.5   +0.6  418    +25      8   +0.8  53     +3   \n2       Akali  500  +105     9   +0.9  200     +0     50     +0  62   +3.3   \n3      Akshan  560   +90  3.75  +0.65  350    +40  8.175   +0.7  52   +3.5   \n4     Alistar  600  +106   8.5  +0.85  350    +40    8.5   +0.8  62  +3.75   \n..        ...  ...   ...   ...    ...  ...    ...    ...    ...  ..    ...   \n156      Zeri  500   +90  3.25  +0.55  250    +45      6   +0.8  53     +2   \n157     Ziggs  536   +92   6.5   +0.6  480  +23.5      8   +0.8  54   +3.1   \n158    Zilean  504   +82   5.5   +0.5  452    +50  11.34   +0.8  52     +3   \n159       Zoe  560   +92   6.5   +0.6  425    +25      8  +0.65  58   +3.3   \n160      Zyra  504   +79   5.5   +0.5  418    +25     13   +0.4  53   +3.2   \n\n        AS      AS+  AR    AR+  MR    MR+   MS Range  \n0    0.651    +2.5%  38  +3.25  32  +1.25  345   175  \n1    0.668      +2%  18   +3.5  30   +0.5  330   550  \n2    0.625    +3.2%  23   +3.5  37  +1.25  345   125  \n3    0.638      +4%  26     +3  30   +0.5  330   500  \n4    0.625  +2.125%  44   +3.5  32  +1.25  330   125  \n..     ...      ...  ..    ...  ..    ...  ...   ...  \n156  0.658      +2%  22     +3  30   +0.5  325   500  \n157  0.656      +2%  22   +3.3  30   +0.5  325   550  \n158  0.625   +2.13%  24   +3.8  30   +0.5  335   550  \n159  0.625    +2.5%  21   +3.5  30   +0.5  340   550  \n160  0.625   +2.11%  29     +3  30   +0.5  340   575  \n\n[161 rows x 19 columns]",
      "text/html": "<div>\n<style scoped>\n    .dataframe tbody tr th:only-of-type {\n        vertical-align: middle;\n    }\n\n    .dataframe tbody tr th {\n        vertical-align: top;\n    }\n\n    .dataframe thead th {\n        text-align: right;\n    }\n</style>\n<table border=\"1\" class=\"dataframe\">\n  <thead>\n    <tr style=\"text-align: right;\">\n      <th></th>\n      <th>Champions</th>\n      <th>HP</th>\n      <th>HP+</th>\n      <th>HP5</th>\n      <th>HP5+</th>\n      <th>MP</th>\n      <th>MP+</th>\n      <th>MP5</th>\n      <th>MP5+</th>\n      <th>AD</th>\n      <th>AD+</th>\n      <th>AS</th>\n      <th>AS+</th>\n      <th>AR</th>\n      <th>AR+</th>\n      <th>MR</th>\n      <th>MR+</th>\n      <th>MS</th>\n      <th>Range</th>\n    </tr>\n  </thead>\n  <tbody>\n    <tr>\n      <th>0</th>\n      <td>Aatrox</td>\n      <td>580</td>\n      <td>+90</td>\n      <td>3</td>\n      <td>+1</td>\n      <td>0</td>\n      <td>+0</td>\n      <td>0</td>\n      <td>+0</td>\n      <td>60</td>\n      <td>+5</td>\n      <td>0.651</td>\n      <td>+2.5%</td>\n      <td>38</td>\n      <td>+3.25</td>\n      <td>32</td>\n      <td>+1.25</td>\n      <td>345</td>\n      <td>175</td>\n    </tr>\n    <tr>\n      <th>1</th>\n      <td>Ahri</td>\n      <td>500</td>\n      <td>+82</td>\n      <td>2.5</td>\n      <td>+0.6</td>\n      <td>418</td>\n      <td>+25</td>\n      <td>8</td>\n      <td>+0.8</td>\n      <td>53</td>\n      <td>+3</td>\n      <td>0.668</td>\n      <td>+2%</td>\n      <td>18</td>\n      <td>+3.5</td>\n      <td>30</td>\n      <td>+0.5</td>\n      <td>330</td>\n      <td>550</td>\n    </tr>\n    <tr>\n      <th>2</th>\n      <td>Akali</td>\n      <td>500</td>\n      <td>+105</td>\n      <td>9</td>\n      <td>+0.9</td>\n      <td>200</td>\n      <td>+0</td>\n      <td>50</td>\n      <td>+0</td>\n      <td>62</td>\n      <td>+3.3</td>\n      <td>0.625</td>\n      <td>+3.2%</td>\n      <td>23</td>\n      <td>+3.5</td>\n      <td>37</td>\n      <td>+1.25</td>\n      <td>345</td>\n      <td>125</td>\n    </tr>\n    <tr>\n      <th>3</th>\n      <td>Akshan</td>\n      <td>560</td>\n      <td>+90</td>\n      <td>3.75</td>\n      <td>+0.65</td>\n      <td>350</td>\n      <td>+40</td>\n      <td>8.175</td>\n      <td>+0.7</td>\n      <td>52</td>\n      <td>+3.5</td>\n      <td>0.638</td>\n      <td>+4%</td>\n      <td>26</td>\n      <td>+3</td>\n      <td>30</td>\n      <td>+0.5</td>\n      <td>330</td>\n      <td>500</td>\n    </tr>\n    <tr>\n      <th>4</th>\n      <td>Alistar</td>\n      <td>600</td>\n      <td>+106</td>\n      <td>8.5</td>\n      <td>+0.85</td>\n      <td>350</td>\n      <td>+40</td>\n      <td>8.5</td>\n      <td>+0.8</td>\n      <td>62</td>\n      <td>+3.75</td>\n      <td>0.625</td>\n      <td>+2.125%</td>\n      <td>44</td>\n      <td>+3.5</td>\n      <td>32</td>\n      <td>+1.25</td>\n      <td>330</td>\n      <td>125</td>\n    </tr>\n    <tr>\n      <th>...</th>\n      <td>...</td>\n      <td>...</td>\n      <td>...</td>\n      <td>...</td>\n      <td>...</td>\n      <td>...</td>\n      <td>...</td>\n      <td>...</td>\n      <td>...</td>\n      <td>...</td>\n      <td>...</td>\n      <td>...</td>\n      <td>...</td>\n      <td>...</td>\n      <td>...</td>\n      <td>...</td>\n      <td>...</td>\n      <td>...</td>\n      <td>...</td>\n    </tr>\n    <tr>\n      <th>156</th>\n      <td>Zeri</td>\n      <td>500</td>\n      <td>+90</td>\n      <td>3.25</td>\n      <td>+0.55</td>\n      <td>250</td>\n      <td>+45</td>\n      <td>6</td>\n      <td>+0.8</td>\n      <td>53</td>\n      <td>+2</td>\n      <td>0.658</td>\n      <td>+2%</td>\n      <td>22</td>\n      <td>+3</td>\n      <td>30</td>\n      <td>+0.5</td>\n      <td>325</td>\n      <td>500</td>\n    </tr>\n    <tr>\n      <th>157</th>\n      <td>Ziggs</td>\n      <td>536</td>\n      <td>+92</td>\n      <td>6.5</td>\n      <td>+0.6</td>\n      <td>480</td>\n      <td>+23.5</td>\n      <td>8</td>\n      <td>+0.8</td>\n      <td>54</td>\n      <td>+3.1</td>\n      <td>0.656</td>\n      <td>+2%</td>\n      <td>22</td>\n      <td>+3.3</td>\n      <td>30</td>\n      <td>+0.5</td>\n      <td>325</td>\n      <td>550</td>\n    </tr>\n    <tr>\n      <th>158</th>\n      <td>Zilean</td>\n      <td>504</td>\n      <td>+82</td>\n      <td>5.5</td>\n      <td>+0.5</td>\n      <td>452</td>\n      <td>+50</td>\n      <td>11.34</td>\n      <td>+0.8</td>\n      <td>52</td>\n      <td>+3</td>\n      <td>0.625</td>\n      <td>+2.13%</td>\n      <td>24</td>\n      <td>+3.8</td>\n      <td>30</td>\n      <td>+0.5</td>\n      <td>335</td>\n      <td>550</td>\n    </tr>\n    <tr>\n      <th>159</th>\n      <td>Zoe</td>\n      <td>560</td>\n      <td>+92</td>\n      <td>6.5</td>\n      <td>+0.6</td>\n      <td>425</td>\n      <td>+25</td>\n      <td>8</td>\n      <td>+0.65</td>\n      <td>58</td>\n      <td>+3.3</td>\n      <td>0.625</td>\n      <td>+2.5%</td>\n      <td>21</td>\n      <td>+3.5</td>\n      <td>30</td>\n      <td>+0.5</td>\n      <td>340</td>\n      <td>550</td>\n    </tr>\n    <tr>\n      <th>160</th>\n      <td>Zyra</td>\n      <td>504</td>\n      <td>+79</td>\n      <td>5.5</td>\n      <td>+0.5</td>\n      <td>418</td>\n      <td>+25</td>\n      <td>13</td>\n      <td>+0.4</td>\n      <td>53</td>\n      <td>+3.2</td>\n      <td>0.625</td>\n      <td>+2.11%</td>\n      <td>29</td>\n      <td>+3</td>\n      <td>30</td>\n      <td>+0.5</td>\n      <td>340</td>\n      <td>575</td>\n    </tr>\n  </tbody>\n</table>\n<p>161 rows × 19 columns</p>\n</div>"
     },
     "execution_count": 16,
     "metadata": {},
     "output_type": "execute_result"
    }
   ],
   "source": [
    "dataframe = pd.read_csv(\"../data/stats_table.csv\", delimiter=\",\", dtype=\"string\")\n",
    "dataframe"
   ],
   "metadata": {
    "collapsed": false,
    "pycharm": {
     "name": "#%%\n"
    }
   }
  },
  {
   "cell_type": "markdown",
   "source": [
    "Remove the \"+\" and \"%\" from the string for future transformation to float"
   ],
   "metadata": {
    "collapsed": false,
    "pycharm": {
     "name": "#%% md\n"
    }
   }
  },
  {
   "cell_type": "code",
   "source": [
    "dataframe_replaced_signs = dataframe.replace(regex={\"\\\\+\": \"\", \"\\\\%\":\"\"})\n",
    "dataframe_replaced_signs"
   ],
   "metadata": {
    "collapsed": false,
    "pycharm": {
     "name": "#%%\n"
    }
   },
   "execution_count": 52,
   "outputs": [
    {
     "data": {
      "text/plain": "    Champions   HP  HP+   HP5  HP5+   MP   MP+    MP5  MP5+  AD   AD+     AS  \\\n0      Aatrox  580   90     3     1    0     0      0     0  60     5  0.651   \n1        Ahri  500   82   2.5   0.6  418    25      8   0.8  53     3  0.668   \n2       Akali  500  105     9   0.9  200     0     50     0  62   3.3  0.625   \n3      Akshan  560   90  3.75  0.65  350    40  8.175   0.7  52   3.5  0.638   \n4     Alistar  600  106   8.5  0.85  350    40    8.5   0.8  62  3.75  0.625   \n..        ...  ...  ...   ...   ...  ...   ...    ...   ...  ..   ...    ...   \n156      Zeri  500   90  3.25  0.55  250    45      6   0.8  53     2  0.658   \n157     Ziggs  536   92   6.5   0.6  480  23.5      8   0.8  54   3.1  0.656   \n158    Zilean  504   82   5.5   0.5  452    50  11.34   0.8  52     3  0.625   \n159       Zoe  560   92   6.5   0.6  425    25      8  0.65  58   3.3  0.625   \n160      Zyra  504   79   5.5   0.5  418    25     13   0.4  53   3.2  0.625   \n\n       AS+  AR   AR+  MR   MR+   MS Range  \n0      2.5  38  3.25  32  1.25  345   175  \n1        2  18   3.5  30   0.5  330   550  \n2      3.2  23   3.5  37  1.25  345   125  \n3        4  26     3  30   0.5  330   500  \n4    2.125  44   3.5  32  1.25  330   125  \n..     ...  ..   ...  ..   ...  ...   ...  \n156      2  22     3  30   0.5  325   500  \n157      2  22   3.3  30   0.5  325   550  \n158   2.13  24   3.8  30   0.5  335   550  \n159    2.5  21   3.5  30   0.5  340   550  \n160   2.11  29     3  30   0.5  340   575  \n\n[161 rows x 19 columns]",
      "text/html": "<div>\n<style scoped>\n    .dataframe tbody tr th:only-of-type {\n        vertical-align: middle;\n    }\n\n    .dataframe tbody tr th {\n        vertical-align: top;\n    }\n\n    .dataframe thead th {\n        text-align: right;\n    }\n</style>\n<table border=\"1\" class=\"dataframe\">\n  <thead>\n    <tr style=\"text-align: right;\">\n      <th></th>\n      <th>Champions</th>\n      <th>HP</th>\n      <th>HP+</th>\n      <th>HP5</th>\n      <th>HP5+</th>\n      <th>MP</th>\n      <th>MP+</th>\n      <th>MP5</th>\n      <th>MP5+</th>\n      <th>AD</th>\n      <th>AD+</th>\n      <th>AS</th>\n      <th>AS+</th>\n      <th>AR</th>\n      <th>AR+</th>\n      <th>MR</th>\n      <th>MR+</th>\n      <th>MS</th>\n      <th>Range</th>\n    </tr>\n  </thead>\n  <tbody>\n    <tr>\n      <th>0</th>\n      <td>Aatrox</td>\n      <td>580</td>\n      <td>90</td>\n      <td>3</td>\n      <td>1</td>\n      <td>0</td>\n      <td>0</td>\n      <td>0</td>\n      <td>0</td>\n      <td>60</td>\n      <td>5</td>\n      <td>0.651</td>\n      <td>2.5</td>\n      <td>38</td>\n      <td>3.25</td>\n      <td>32</td>\n      <td>1.25</td>\n      <td>345</td>\n      <td>175</td>\n    </tr>\n    <tr>\n      <th>1</th>\n      <td>Ahri</td>\n      <td>500</td>\n      <td>82</td>\n      <td>2.5</td>\n      <td>0.6</td>\n      <td>418</td>\n      <td>25</td>\n      <td>8</td>\n      <td>0.8</td>\n      <td>53</td>\n      <td>3</td>\n      <td>0.668</td>\n      <td>2</td>\n      <td>18</td>\n      <td>3.5</td>\n      <td>30</td>\n      <td>0.5</td>\n      <td>330</td>\n      <td>550</td>\n    </tr>\n    <tr>\n      <th>2</th>\n      <td>Akali</td>\n      <td>500</td>\n      <td>105</td>\n      <td>9</td>\n      <td>0.9</td>\n      <td>200</td>\n      <td>0</td>\n      <td>50</td>\n      <td>0</td>\n      <td>62</td>\n      <td>3.3</td>\n      <td>0.625</td>\n      <td>3.2</td>\n      <td>23</td>\n      <td>3.5</td>\n      <td>37</td>\n      <td>1.25</td>\n      <td>345</td>\n      <td>125</td>\n    </tr>\n    <tr>\n      <th>3</th>\n      <td>Akshan</td>\n      <td>560</td>\n      <td>90</td>\n      <td>3.75</td>\n      <td>0.65</td>\n      <td>350</td>\n      <td>40</td>\n      <td>8.175</td>\n      <td>0.7</td>\n      <td>52</td>\n      <td>3.5</td>\n      <td>0.638</td>\n      <td>4</td>\n      <td>26</td>\n      <td>3</td>\n      <td>30</td>\n      <td>0.5</td>\n      <td>330</td>\n      <td>500</td>\n    </tr>\n    <tr>\n      <th>4</th>\n      <td>Alistar</td>\n      <td>600</td>\n      <td>106</td>\n      <td>8.5</td>\n      <td>0.85</td>\n      <td>350</td>\n      <td>40</td>\n      <td>8.5</td>\n      <td>0.8</td>\n      <td>62</td>\n      <td>3.75</td>\n      <td>0.625</td>\n      <td>2.125</td>\n      <td>44</td>\n      <td>3.5</td>\n      <td>32</td>\n      <td>1.25</td>\n      <td>330</td>\n      <td>125</td>\n    </tr>\n    <tr>\n      <th>...</th>\n      <td>...</td>\n      <td>...</td>\n      <td>...</td>\n      <td>...</td>\n      <td>...</td>\n      <td>...</td>\n      <td>...</td>\n      <td>...</td>\n      <td>...</td>\n      <td>...</td>\n      <td>...</td>\n      <td>...</td>\n      <td>...</td>\n      <td>...</td>\n      <td>...</td>\n      <td>...</td>\n      <td>...</td>\n      <td>...</td>\n      <td>...</td>\n    </tr>\n    <tr>\n      <th>156</th>\n      <td>Zeri</td>\n      <td>500</td>\n      <td>90</td>\n      <td>3.25</td>\n      <td>0.55</td>\n      <td>250</td>\n      <td>45</td>\n      <td>6</td>\n      <td>0.8</td>\n      <td>53</td>\n      <td>2</td>\n      <td>0.658</td>\n      <td>2</td>\n      <td>22</td>\n      <td>3</td>\n      <td>30</td>\n      <td>0.5</td>\n      <td>325</td>\n      <td>500</td>\n    </tr>\n    <tr>\n      <th>157</th>\n      <td>Ziggs</td>\n      <td>536</td>\n      <td>92</td>\n      <td>6.5</td>\n      <td>0.6</td>\n      <td>480</td>\n      <td>23.5</td>\n      <td>8</td>\n      <td>0.8</td>\n      <td>54</td>\n      <td>3.1</td>\n      <td>0.656</td>\n      <td>2</td>\n      <td>22</td>\n      <td>3.3</td>\n      <td>30</td>\n      <td>0.5</td>\n      <td>325</td>\n      <td>550</td>\n    </tr>\n    <tr>\n      <th>158</th>\n      <td>Zilean</td>\n      <td>504</td>\n      <td>82</td>\n      <td>5.5</td>\n      <td>0.5</td>\n      <td>452</td>\n      <td>50</td>\n      <td>11.34</td>\n      <td>0.8</td>\n      <td>52</td>\n      <td>3</td>\n      <td>0.625</td>\n      <td>2.13</td>\n      <td>24</td>\n      <td>3.8</td>\n      <td>30</td>\n      <td>0.5</td>\n      <td>335</td>\n      <td>550</td>\n    </tr>\n    <tr>\n      <th>159</th>\n      <td>Zoe</td>\n      <td>560</td>\n      <td>92</td>\n      <td>6.5</td>\n      <td>0.6</td>\n      <td>425</td>\n      <td>25</td>\n      <td>8</td>\n      <td>0.65</td>\n      <td>58</td>\n      <td>3.3</td>\n      <td>0.625</td>\n      <td>2.5</td>\n      <td>21</td>\n      <td>3.5</td>\n      <td>30</td>\n      <td>0.5</td>\n      <td>340</td>\n      <td>550</td>\n    </tr>\n    <tr>\n      <th>160</th>\n      <td>Zyra</td>\n      <td>504</td>\n      <td>79</td>\n      <td>5.5</td>\n      <td>0.5</td>\n      <td>418</td>\n      <td>25</td>\n      <td>13</td>\n      <td>0.4</td>\n      <td>53</td>\n      <td>3.2</td>\n      <td>0.625</td>\n      <td>2.11</td>\n      <td>29</td>\n      <td>3</td>\n      <td>30</td>\n      <td>0.5</td>\n      <td>340</td>\n      <td>575</td>\n    </tr>\n  </tbody>\n</table>\n<p>161 rows × 19 columns</p>\n</div>"
     },
     "execution_count": 52,
     "metadata": {},
     "output_type": "execute_result"
    }
   ]
  },
  {
   "cell_type": "markdown",
   "source": [
    "Change the strings to float values\n",
    "Removed the column champions to convert all the columns at once without listing it.\n",
    "Inserted again the champion column on the dataframe with float values, and repositioned it to be the first column"
   ],
   "metadata": {
    "collapsed": false,
    "pycharm": {
     "name": "#%% md\n"
    }
   }
  },
  {
   "cell_type": "code",
   "execution_count": 53,
   "outputs": [
    {
     "data": {
      "text/plain": "    Champions     HP    HP+   HP5  HP5+     MP   MP+     MP5  MP5+    AD  \\\n0      Aatrox  580.0   90.0  3.00  1.00    0.0   0.0   0.000  0.00  60.0   \n1        Ahri  500.0   82.0  2.50  0.60  418.0  25.0   8.000  0.80  53.0   \n2       Akali  500.0  105.0  9.00  0.90  200.0   0.0  50.000  0.00  62.0   \n3      Akshan  560.0   90.0  3.75  0.65  350.0  40.0   8.175  0.70  52.0   \n4     Alistar  600.0  106.0  8.50  0.85  350.0  40.0   8.500  0.80  62.0   \n..        ...    ...    ...   ...   ...    ...   ...     ...   ...   ...   \n156      Zeri  500.0   90.0  3.25  0.55  250.0  45.0   6.000  0.80  53.0   \n157     Ziggs  536.0   92.0  6.50  0.60  480.0  23.5   8.000  0.80  54.0   \n158    Zilean  504.0   82.0  5.50  0.50  452.0  50.0  11.340  0.80  52.0   \n159       Zoe  560.0   92.0  6.50  0.60  425.0  25.0   8.000  0.65  58.0   \n160      Zyra  504.0   79.0  5.50  0.50  418.0  25.0  13.000  0.40  53.0   \n\n      AD+     AS    AS+    AR   AR+    MR   MR+     MS  Range  \n0    5.00  0.651  2.500  38.0  3.25  32.0  1.25  345.0  175.0  \n1    3.00  0.668  2.000  18.0  3.50  30.0  0.50  330.0  550.0  \n2    3.30  0.625  3.200  23.0  3.50  37.0  1.25  345.0  125.0  \n3    3.50  0.638  4.000  26.0  3.00  30.0  0.50  330.0  500.0  \n4    3.75  0.625  2.125  44.0  3.50  32.0  1.25  330.0  125.0  \n..    ...    ...    ...   ...   ...   ...   ...    ...    ...  \n156  2.00  0.658  2.000  22.0  3.00  30.0  0.50  325.0  500.0  \n157  3.10  0.656  2.000  22.0  3.30  30.0  0.50  325.0  550.0  \n158  3.00  0.625  2.130  24.0  3.80  30.0  0.50  335.0  550.0  \n159  3.30  0.625  2.500  21.0  3.50  30.0  0.50  340.0  550.0  \n160  3.20  0.625  2.110  29.0  3.00  30.0  0.50  340.0  575.0  \n\n[161 rows x 19 columns]",
      "text/html": "<div>\n<style scoped>\n    .dataframe tbody tr th:only-of-type {\n        vertical-align: middle;\n    }\n\n    .dataframe tbody tr th {\n        vertical-align: top;\n    }\n\n    .dataframe thead th {\n        text-align: right;\n    }\n</style>\n<table border=\"1\" class=\"dataframe\">\n  <thead>\n    <tr style=\"text-align: right;\">\n      <th></th>\n      <th>Champions</th>\n      <th>HP</th>\n      <th>HP+</th>\n      <th>HP5</th>\n      <th>HP5+</th>\n      <th>MP</th>\n      <th>MP+</th>\n      <th>MP5</th>\n      <th>MP5+</th>\n      <th>AD</th>\n      <th>AD+</th>\n      <th>AS</th>\n      <th>AS+</th>\n      <th>AR</th>\n      <th>AR+</th>\n      <th>MR</th>\n      <th>MR+</th>\n      <th>MS</th>\n      <th>Range</th>\n    </tr>\n  </thead>\n  <tbody>\n    <tr>\n      <th>0</th>\n      <td>Aatrox</td>\n      <td>580.0</td>\n      <td>90.0</td>\n      <td>3.00</td>\n      <td>1.00</td>\n      <td>0.0</td>\n      <td>0.0</td>\n      <td>0.000</td>\n      <td>0.00</td>\n      <td>60.0</td>\n      <td>5.00</td>\n      <td>0.651</td>\n      <td>2.500</td>\n      <td>38.0</td>\n      <td>3.25</td>\n      <td>32.0</td>\n      <td>1.25</td>\n      <td>345.0</td>\n      <td>175.0</td>\n    </tr>\n    <tr>\n      <th>1</th>\n      <td>Ahri</td>\n      <td>500.0</td>\n      <td>82.0</td>\n      <td>2.50</td>\n      <td>0.60</td>\n      <td>418.0</td>\n      <td>25.0</td>\n      <td>8.000</td>\n      <td>0.80</td>\n      <td>53.0</td>\n      <td>3.00</td>\n      <td>0.668</td>\n      <td>2.000</td>\n      <td>18.0</td>\n      <td>3.50</td>\n      <td>30.0</td>\n      <td>0.50</td>\n      <td>330.0</td>\n      <td>550.0</td>\n    </tr>\n    <tr>\n      <th>2</th>\n      <td>Akali</td>\n      <td>500.0</td>\n      <td>105.0</td>\n      <td>9.00</td>\n      <td>0.90</td>\n      <td>200.0</td>\n      <td>0.0</td>\n      <td>50.000</td>\n      <td>0.00</td>\n      <td>62.0</td>\n      <td>3.30</td>\n      <td>0.625</td>\n      <td>3.200</td>\n      <td>23.0</td>\n      <td>3.50</td>\n      <td>37.0</td>\n      <td>1.25</td>\n      <td>345.0</td>\n      <td>125.0</td>\n    </tr>\n    <tr>\n      <th>3</th>\n      <td>Akshan</td>\n      <td>560.0</td>\n      <td>90.0</td>\n      <td>3.75</td>\n      <td>0.65</td>\n      <td>350.0</td>\n      <td>40.0</td>\n      <td>8.175</td>\n      <td>0.70</td>\n      <td>52.0</td>\n      <td>3.50</td>\n      <td>0.638</td>\n      <td>4.000</td>\n      <td>26.0</td>\n      <td>3.00</td>\n      <td>30.0</td>\n      <td>0.50</td>\n      <td>330.0</td>\n      <td>500.0</td>\n    </tr>\n    <tr>\n      <th>4</th>\n      <td>Alistar</td>\n      <td>600.0</td>\n      <td>106.0</td>\n      <td>8.50</td>\n      <td>0.85</td>\n      <td>350.0</td>\n      <td>40.0</td>\n      <td>8.500</td>\n      <td>0.80</td>\n      <td>62.0</td>\n      <td>3.75</td>\n      <td>0.625</td>\n      <td>2.125</td>\n      <td>44.0</td>\n      <td>3.50</td>\n      <td>32.0</td>\n      <td>1.25</td>\n      <td>330.0</td>\n      <td>125.0</td>\n    </tr>\n    <tr>\n      <th>...</th>\n      <td>...</td>\n      <td>...</td>\n      <td>...</td>\n      <td>...</td>\n      <td>...</td>\n      <td>...</td>\n      <td>...</td>\n      <td>...</td>\n      <td>...</td>\n      <td>...</td>\n      <td>...</td>\n      <td>...</td>\n      <td>...</td>\n      <td>...</td>\n      <td>...</td>\n      <td>...</td>\n      <td>...</td>\n      <td>...</td>\n      <td>...</td>\n    </tr>\n    <tr>\n      <th>156</th>\n      <td>Zeri</td>\n      <td>500.0</td>\n      <td>90.0</td>\n      <td>3.25</td>\n      <td>0.55</td>\n      <td>250.0</td>\n      <td>45.0</td>\n      <td>6.000</td>\n      <td>0.80</td>\n      <td>53.0</td>\n      <td>2.00</td>\n      <td>0.658</td>\n      <td>2.000</td>\n      <td>22.0</td>\n      <td>3.00</td>\n      <td>30.0</td>\n      <td>0.50</td>\n      <td>325.0</td>\n      <td>500.0</td>\n    </tr>\n    <tr>\n      <th>157</th>\n      <td>Ziggs</td>\n      <td>536.0</td>\n      <td>92.0</td>\n      <td>6.50</td>\n      <td>0.60</td>\n      <td>480.0</td>\n      <td>23.5</td>\n      <td>8.000</td>\n      <td>0.80</td>\n      <td>54.0</td>\n      <td>3.10</td>\n      <td>0.656</td>\n      <td>2.000</td>\n      <td>22.0</td>\n      <td>3.30</td>\n      <td>30.0</td>\n      <td>0.50</td>\n      <td>325.0</td>\n      <td>550.0</td>\n    </tr>\n    <tr>\n      <th>158</th>\n      <td>Zilean</td>\n      <td>504.0</td>\n      <td>82.0</td>\n      <td>5.50</td>\n      <td>0.50</td>\n      <td>452.0</td>\n      <td>50.0</td>\n      <td>11.340</td>\n      <td>0.80</td>\n      <td>52.0</td>\n      <td>3.00</td>\n      <td>0.625</td>\n      <td>2.130</td>\n      <td>24.0</td>\n      <td>3.80</td>\n      <td>30.0</td>\n      <td>0.50</td>\n      <td>335.0</td>\n      <td>550.0</td>\n    </tr>\n    <tr>\n      <th>159</th>\n      <td>Zoe</td>\n      <td>560.0</td>\n      <td>92.0</td>\n      <td>6.50</td>\n      <td>0.60</td>\n      <td>425.0</td>\n      <td>25.0</td>\n      <td>8.000</td>\n      <td>0.65</td>\n      <td>58.0</td>\n      <td>3.30</td>\n      <td>0.625</td>\n      <td>2.500</td>\n      <td>21.0</td>\n      <td>3.50</td>\n      <td>30.0</td>\n      <td>0.50</td>\n      <td>340.0</td>\n      <td>550.0</td>\n    </tr>\n    <tr>\n      <th>160</th>\n      <td>Zyra</td>\n      <td>504.0</td>\n      <td>79.0</td>\n      <td>5.50</td>\n      <td>0.50</td>\n      <td>418.0</td>\n      <td>25.0</td>\n      <td>13.000</td>\n      <td>0.40</td>\n      <td>53.0</td>\n      <td>3.20</td>\n      <td>0.625</td>\n      <td>2.110</td>\n      <td>29.0</td>\n      <td>3.00</td>\n      <td>30.0</td>\n      <td>0.50</td>\n      <td>340.0</td>\n      <td>575.0</td>\n    </tr>\n  </tbody>\n</table>\n<p>161 rows × 19 columns</p>\n</div>"
     },
     "execution_count": 53,
     "metadata": {},
     "output_type": "execute_result"
    }
   ],
   "source": [
    "dataframe_float_values = dataframe_replaced_signs[dataframe.columns.drop(\"Champions\")].astype(\"float\")\n",
    "dataframe_float_values[\"Champions\"] = dataframe[\"Champions\"]\n",
    "dataframe_float_values = dataframe_float_values[['Champions', 'HP', 'HP+', 'HP5', 'HP5+', 'MP', 'MP+', 'MP5', 'MP5+', 'AD', 'AD+', 'AS', 'AS+', 'AR', 'AR+', 'MR', 'MR+', 'MS', 'Range']]\n",
    "dataframe_float_values"
   ],
   "metadata": {
    "collapsed": false,
    "pycharm": {
     "name": "#%%\n"
    }
   }
  },
  {
   "cell_type": "raw",
   "source": [
    "Rename the columns with \"+\" to \"_per_level\" to improve the conotation.\n",
    "Rename the columns to represent the real name (HP = Health, HP5 = Health Regeneration, MP = Mana, MP5 = Mana Regeneration, AD = Attack Damage, AS = Attack Speed, AR = Armor, MR = Magic Resist, MS = Movement Speed, Range = Attack Range, AS+ = Attack Speed percent)"
   ],
   "metadata": {
    "collapsed": false,
    "pycharm": {
     "name": "#%% raw\n"
    }
   }
  },
  {
   "cell_type": "code",
   "execution_count": 58,
   "outputs": [
    {
     "data": {
      "text/plain": "    champion  health  health_per_level  health_regeneration  \\\n0     Aatrox   580.0              90.0                 3.00   \n1       Ahri   500.0              82.0                 2.50   \n2      Akali   500.0             105.0                 9.00   \n3     Akshan   560.0              90.0                 3.75   \n4    Alistar   600.0             106.0                 8.50   \n..       ...     ...               ...                  ...   \n156     Zeri   500.0              90.0                 3.25   \n157    Ziggs   536.0              92.0                 6.50   \n158   Zilean   504.0              82.0                 5.50   \n159      Zoe   560.0              92.0                 6.50   \n160     Zyra   504.0              79.0                 5.50   \n\n     health_regeneration_per_level   mana  mana_per_level  mana_regeneration  \\\n0                             1.00    0.0             0.0              0.000   \n1                             0.60  418.0            25.0              8.000   \n2                             0.90  200.0             0.0             50.000   \n3                             0.65  350.0            40.0              8.175   \n4                             0.85  350.0            40.0              8.500   \n..                             ...    ...             ...                ...   \n156                           0.55  250.0            45.0              6.000   \n157                           0.60  480.0            23.5              8.000   \n158                           0.50  452.0            50.0             11.340   \n159                           0.60  425.0            25.0              8.000   \n160                           0.50  418.0            25.0             13.000   \n\n     mana_regeneration_per_level  attack_damage  attack_damage_per_level  \\\n0                           0.00           60.0                     5.00   \n1                           0.80           53.0                     3.00   \n2                           0.00           62.0                     3.30   \n3                           0.70           52.0                     3.50   \n4                           0.80           62.0                     3.75   \n..                           ...            ...                      ...   \n156                         0.80           53.0                     2.00   \n157                         0.80           54.0                     3.10   \n158                         0.80           52.0                     3.00   \n159                         0.65           58.0                     3.30   \n160                         0.40           53.0                     3.20   \n\n     attack_speed  attack_speed_percent_per_level  armor  armor_per_level  \\\n0           0.651                           2.500   38.0             3.25   \n1           0.668                           2.000   18.0             3.50   \n2           0.625                           3.200   23.0             3.50   \n3           0.638                           4.000   26.0             3.00   \n4           0.625                           2.125   44.0             3.50   \n..            ...                             ...    ...              ...   \n156         0.658                           2.000   22.0             3.00   \n157         0.656                           2.000   22.0             3.30   \n158         0.625                           2.130   24.0             3.80   \n159         0.625                           2.500   21.0             3.50   \n160         0.625                           2.110   29.0             3.00   \n\n     magic_resist  magic_resist_per_level  movement_speed  basic_attack_range  \n0            32.0                    1.25           345.0               175.0  \n1            30.0                    0.50           330.0               550.0  \n2            37.0                    1.25           345.0               125.0  \n3            30.0                    0.50           330.0               500.0  \n4            32.0                    1.25           330.0               125.0  \n..            ...                     ...             ...                 ...  \n156          30.0                    0.50           325.0               500.0  \n157          30.0                    0.50           325.0               550.0  \n158          30.0                    0.50           335.0               550.0  \n159          30.0                    0.50           340.0               550.0  \n160          30.0                    0.50           340.0               575.0  \n\n[161 rows x 19 columns]",
      "text/html": "<div>\n<style scoped>\n    .dataframe tbody tr th:only-of-type {\n        vertical-align: middle;\n    }\n\n    .dataframe tbody tr th {\n        vertical-align: top;\n    }\n\n    .dataframe thead th {\n        text-align: right;\n    }\n</style>\n<table border=\"1\" class=\"dataframe\">\n  <thead>\n    <tr style=\"text-align: right;\">\n      <th></th>\n      <th>champion</th>\n      <th>health</th>\n      <th>health_per_level</th>\n      <th>health_regeneration</th>\n      <th>health_regeneration_per_level</th>\n      <th>mana</th>\n      <th>mana_per_level</th>\n      <th>mana_regeneration</th>\n      <th>mana_regeneration_per_level</th>\n      <th>attack_damage</th>\n      <th>attack_damage_per_level</th>\n      <th>attack_speed</th>\n      <th>attack_speed_percent_per_level</th>\n      <th>armor</th>\n      <th>armor_per_level</th>\n      <th>magic_resist</th>\n      <th>magic_resist_per_level</th>\n      <th>movement_speed</th>\n      <th>basic_attack_range</th>\n    </tr>\n  </thead>\n  <tbody>\n    <tr>\n      <th>0</th>\n      <td>Aatrox</td>\n      <td>580.0</td>\n      <td>90.0</td>\n      <td>3.00</td>\n      <td>1.00</td>\n      <td>0.0</td>\n      <td>0.0</td>\n      <td>0.000</td>\n      <td>0.00</td>\n      <td>60.0</td>\n      <td>5.00</td>\n      <td>0.651</td>\n      <td>2.500</td>\n      <td>38.0</td>\n      <td>3.25</td>\n      <td>32.0</td>\n      <td>1.25</td>\n      <td>345.0</td>\n      <td>175.0</td>\n    </tr>\n    <tr>\n      <th>1</th>\n      <td>Ahri</td>\n      <td>500.0</td>\n      <td>82.0</td>\n      <td>2.50</td>\n      <td>0.60</td>\n      <td>418.0</td>\n      <td>25.0</td>\n      <td>8.000</td>\n      <td>0.80</td>\n      <td>53.0</td>\n      <td>3.00</td>\n      <td>0.668</td>\n      <td>2.000</td>\n      <td>18.0</td>\n      <td>3.50</td>\n      <td>30.0</td>\n      <td>0.50</td>\n      <td>330.0</td>\n      <td>550.0</td>\n    </tr>\n    <tr>\n      <th>2</th>\n      <td>Akali</td>\n      <td>500.0</td>\n      <td>105.0</td>\n      <td>9.00</td>\n      <td>0.90</td>\n      <td>200.0</td>\n      <td>0.0</td>\n      <td>50.000</td>\n      <td>0.00</td>\n      <td>62.0</td>\n      <td>3.30</td>\n      <td>0.625</td>\n      <td>3.200</td>\n      <td>23.0</td>\n      <td>3.50</td>\n      <td>37.0</td>\n      <td>1.25</td>\n      <td>345.0</td>\n      <td>125.0</td>\n    </tr>\n    <tr>\n      <th>3</th>\n      <td>Akshan</td>\n      <td>560.0</td>\n      <td>90.0</td>\n      <td>3.75</td>\n      <td>0.65</td>\n      <td>350.0</td>\n      <td>40.0</td>\n      <td>8.175</td>\n      <td>0.70</td>\n      <td>52.0</td>\n      <td>3.50</td>\n      <td>0.638</td>\n      <td>4.000</td>\n      <td>26.0</td>\n      <td>3.00</td>\n      <td>30.0</td>\n      <td>0.50</td>\n      <td>330.0</td>\n      <td>500.0</td>\n    </tr>\n    <tr>\n      <th>4</th>\n      <td>Alistar</td>\n      <td>600.0</td>\n      <td>106.0</td>\n      <td>8.50</td>\n      <td>0.85</td>\n      <td>350.0</td>\n      <td>40.0</td>\n      <td>8.500</td>\n      <td>0.80</td>\n      <td>62.0</td>\n      <td>3.75</td>\n      <td>0.625</td>\n      <td>2.125</td>\n      <td>44.0</td>\n      <td>3.50</td>\n      <td>32.0</td>\n      <td>1.25</td>\n      <td>330.0</td>\n      <td>125.0</td>\n    </tr>\n    <tr>\n      <th>...</th>\n      <td>...</td>\n      <td>...</td>\n      <td>...</td>\n      <td>...</td>\n      <td>...</td>\n      <td>...</td>\n      <td>...</td>\n      <td>...</td>\n      <td>...</td>\n      <td>...</td>\n      <td>...</td>\n      <td>...</td>\n      <td>...</td>\n      <td>...</td>\n      <td>...</td>\n      <td>...</td>\n      <td>...</td>\n      <td>...</td>\n      <td>...</td>\n    </tr>\n    <tr>\n      <th>156</th>\n      <td>Zeri</td>\n      <td>500.0</td>\n      <td>90.0</td>\n      <td>3.25</td>\n      <td>0.55</td>\n      <td>250.0</td>\n      <td>45.0</td>\n      <td>6.000</td>\n      <td>0.80</td>\n      <td>53.0</td>\n      <td>2.00</td>\n      <td>0.658</td>\n      <td>2.000</td>\n      <td>22.0</td>\n      <td>3.00</td>\n      <td>30.0</td>\n      <td>0.50</td>\n      <td>325.0</td>\n      <td>500.0</td>\n    </tr>\n    <tr>\n      <th>157</th>\n      <td>Ziggs</td>\n      <td>536.0</td>\n      <td>92.0</td>\n      <td>6.50</td>\n      <td>0.60</td>\n      <td>480.0</td>\n      <td>23.5</td>\n      <td>8.000</td>\n      <td>0.80</td>\n      <td>54.0</td>\n      <td>3.10</td>\n      <td>0.656</td>\n      <td>2.000</td>\n      <td>22.0</td>\n      <td>3.30</td>\n      <td>30.0</td>\n      <td>0.50</td>\n      <td>325.0</td>\n      <td>550.0</td>\n    </tr>\n    <tr>\n      <th>158</th>\n      <td>Zilean</td>\n      <td>504.0</td>\n      <td>82.0</td>\n      <td>5.50</td>\n      <td>0.50</td>\n      <td>452.0</td>\n      <td>50.0</td>\n      <td>11.340</td>\n      <td>0.80</td>\n      <td>52.0</td>\n      <td>3.00</td>\n      <td>0.625</td>\n      <td>2.130</td>\n      <td>24.0</td>\n      <td>3.80</td>\n      <td>30.0</td>\n      <td>0.50</td>\n      <td>335.0</td>\n      <td>550.0</td>\n    </tr>\n    <tr>\n      <th>159</th>\n      <td>Zoe</td>\n      <td>560.0</td>\n      <td>92.0</td>\n      <td>6.50</td>\n      <td>0.60</td>\n      <td>425.0</td>\n      <td>25.0</td>\n      <td>8.000</td>\n      <td>0.65</td>\n      <td>58.0</td>\n      <td>3.30</td>\n      <td>0.625</td>\n      <td>2.500</td>\n      <td>21.0</td>\n      <td>3.50</td>\n      <td>30.0</td>\n      <td>0.50</td>\n      <td>340.0</td>\n      <td>550.0</td>\n    </tr>\n    <tr>\n      <th>160</th>\n      <td>Zyra</td>\n      <td>504.0</td>\n      <td>79.0</td>\n      <td>5.50</td>\n      <td>0.50</td>\n      <td>418.0</td>\n      <td>25.0</td>\n      <td>13.000</td>\n      <td>0.40</td>\n      <td>53.0</td>\n      <td>3.20</td>\n      <td>0.625</td>\n      <td>2.110</td>\n      <td>29.0</td>\n      <td>3.00</td>\n      <td>30.0</td>\n      <td>0.50</td>\n      <td>340.0</td>\n      <td>575.0</td>\n    </tr>\n  </tbody>\n</table>\n<p>161 rows × 19 columns</p>\n</div>"
     },
     "execution_count": 58,
     "metadata": {},
     "output_type": "execute_result"
    }
   ],
   "source": [
    "dataframe_float_values_renamed = dataframe_float_values.rename(columns={\"Champions\": \"champion\", \"HP\":\"health\", \"HP+\":\"health_per_level\", \"HP5\": \"health_regeneration\", \"HP5+\": \"health_regeneration_per_level\", \"MP\": \"mana\", \"MP+\": \"mana_per_level\", \"MP5\": \"mana_regeneration\", \"MP5+\": \"mana_regeneration_per_level\", \"AD\":\"attack_damage\", \"AD+\":\"attack_damage_per_level\", \"AS\": \"attack_speed\", \"AS+\": \"attack_speed_percent_per_level\", \"AR\": \"armor\", \"AR+\": \"armor_per_level\", \"MR\": \"magic_resist\", \"MR+\": \"magic_resist_per_level\", \"MS\":\"movement_speed\", \"Range\": \"basic_attack_range\"})\n",
    "dataframe_float_values_renamed"
   ],
   "metadata": {
    "collapsed": false,
    "pycharm": {
     "name": "#%%\n"
    }
   }
  },
  {
   "cell_type": "markdown",
   "source": [
    "Save again the file to the data folder as csv, and delimiter \";\""
   ],
   "metadata": {
    "collapsed": false,
    "pycharm": {
     "name": "#%% md\n"
    }
   }
  },
  {
   "cell_type": "code",
   "execution_count": 61,
   "outputs": [],
   "source": [
    "dataframe_float_values_renamed.to_csv(\"../data/normalized_stats_table.csv\", sep=\",\", index=False, header=True)"
   ],
   "metadata": {
    "collapsed": false,
    "pycharm": {
     "name": "#%%\n"
    }
   }
  }
 ],
 "metadata": {
  "kernelspec": {
   "display_name": "Python 3",
   "language": "python",
   "name": "python3"
  },
  "language_info": {
   "codemirror_mode": {
    "name": "ipython",
    "version": 2
   },
   "file_extension": ".py",
   "mimetype": "text/x-python",
   "name": "python",
   "nbconvert_exporter": "python",
   "pygments_lexer": "ipython2",
   "version": "2.7.6"
  }
 },
 "nbformat": 4,
 "nbformat_minor": 0
}